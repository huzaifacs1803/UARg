{
 "cells": [
  {
   "cell_type": "code",
   "execution_count": 3,
   "metadata": {},
   "outputs": [
    {
     "name": "stdout",
     "output_type": "stream",
     "text": [
      "Requirement already satisfied: googletrans==4.0.0rc1 in c:\\users\\huzai\\anaconda3\\lib\\site-packages (4.0.0rc1)\n",
      "Requirement already satisfied: httpx==0.13.3 in c:\\users\\huzai\\anaconda3\\lib\\site-packages (from googletrans==4.0.0rc1) (0.13.3)\n",
      "Requirement already satisfied: hstspreload in c:\\users\\huzai\\anaconda3\\lib\\site-packages (from httpx==0.13.3->googletrans==4.0.0rc1) (2020.12.22)\n",
      "Requirement already satisfied: chardet==3.* in c:\\users\\huzai\\anaconda3\\lib\\site-packages (from httpx==0.13.3->googletrans==4.0.0rc1) (3.0.4)\n",
      "Requirement already satisfied: idna==2.* in c:\\users\\huzai\\anaconda3\\lib\\site-packages (from httpx==0.13.3->googletrans==4.0.0rc1) (2.10)\n",
      "Requirement already satisfied: sniffio in c:\\users\\huzai\\anaconda3\\lib\\site-packages (from httpx==0.13.3->googletrans==4.0.0rc1) (1.2.0)\n",
      "Requirement already satisfied: rfc3986<2,>=1.3 in c:\\users\\huzai\\anaconda3\\lib\\site-packages (from httpx==0.13.3->googletrans==4.0.0rc1) (1.5.0)\n",
      "Requirement already satisfied: httpcore==0.9.* in c:\\users\\huzai\\anaconda3\\lib\\site-packages (from httpx==0.13.3->googletrans==4.0.0rc1) (0.9.1)\n",
      "Requirement already satisfied: certifi in c:\\users\\huzai\\anaconda3\\lib\\site-packages (from httpx==0.13.3->googletrans==4.0.0rc1) (2020.6.20)\n",
      "Requirement already satisfied: h2==3.* in c:\\users\\huzai\\anaconda3\\lib\\site-packages (from httpcore==0.9.*->httpx==0.13.3->googletrans==4.0.0rc1) (3.2.0)\n",
      "Requirement already satisfied: h11<0.10,>=0.8 in c:\\users\\huzai\\anaconda3\\lib\\site-packages (from httpcore==0.9.*->httpx==0.13.3->googletrans==4.0.0rc1) (0.9.0)\n",
      "Requirement already satisfied: hpack<4,>=3.0 in c:\\users\\huzai\\anaconda3\\lib\\site-packages (from h2==3.*->httpcore==0.9.*->httpx==0.13.3->googletrans==4.0.0rc1) (3.0.0)\n",
      "Requirement already satisfied: hyperframe<6,>=5.2.0 in c:\\users\\huzai\\anaconda3\\lib\\site-packages (from h2==3.*->httpcore==0.9.*->httpx==0.13.3->googletrans==4.0.0rc1) (5.2.0)\n",
      "Note: you may need to restart the kernel to use updated packages.\n"
     ]
    }
   ],
   "source": [
    "pip install googletrans==4.0.0rc1"
   ]
  },
  {
   "cell_type": "code",
   "execution_count": 4,
   "metadata": {},
   "outputs": [
    {
     "name": "stdout",
     "output_type": "stream",
     "text": [
      "Requirement already satisfied: SpeechRecognition in c:\\users\\huzai\\anaconda3\\lib\\site-packages (3.8.1)\n",
      "Note: you may need to restart the kernel to use updated packages.\n"
     ]
    }
   ],
   "source": [
    "pip install SpeechRecognition"
   ]
  },
  {
   "cell_type": "code",
   "execution_count": 5,
   "metadata": {},
   "outputs": [
    {
     "name": "stdout",
     "output_type": "stream",
     "text": [
      "Requirement already satisfied: pyttsx3 in c:\\users\\huzai\\anaconda3\\lib\\site-packages (2.90)Note: you may need to restart the kernel to use updated packages.\n",
      "Requirement already satisfied: comtypes; platform_system == \"Windows\" in c:\\users\\huzai\\anaconda3\\lib\\site-packages (from pyttsx3) (1.1.7)\n",
      "Requirement already satisfied: pywin32; platform_system == \"Windows\" in c:\\users\\huzai\\anaconda3\\lib\\site-packages (from pyttsx3) (227)\n",
      "Requirement already satisfied: pypiwin32; platform_system == \"Windows\" in c:\\users\\huzai\\anaconda3\\lib\\site-packages (from pyttsx3) (223)\n",
      "\n"
     ]
    }
   ],
   "source": [
    "pip install pyttsx3"
   ]
  },
  {
   "cell_type": "code",
   "execution_count": 6,
   "metadata": {},
   "outputs": [],
   "source": [
    "import speech_recognition as sr\n"
   ]
  },
  {
   "cell_type": "code",
   "execution_count": 7,
   "metadata": {},
   "outputs": [],
   "source": [
    "r = sr.Recognizer()"
   ]
  },
  {
   "cell_type": "code",
   "execution_count": 8,
   "metadata": {},
   "outputs": [],
   "source": [
    "#  Speech to text funtion which call for input\n",
    "def myfunction():\n",
    "    with sr.Microphone() as source2: \n",
    "        print(\"Say\");\n",
    "        audio = r.listen(source2, phrase_time_limit=5)\n",
    "        print(\"Time over, Thanks\")\n",
    "        value=(r.recognize_google(audio, language = 'ur'));\n",
    "        return value"
   ]
  },
  {
   "cell_type": "code",
   "execution_count": 10,
   "metadata": {},
   "outputs": [
    {
     "name": "stdout",
     "output_type": "stream",
     "text": [
      "اپنا نام لکھیں\n",
      "Say\n",
      "Time over, Thanks\n",
      "اپنا شہر لکھیں\n",
      "Say\n",
      "Time over, Thanks\n",
      "اپنا ای میل لکھیں\n",
      "Say\n",
      "Time over, Thanks\n"
     ]
    },
    {
     "ename": "UnknownValueError",
     "evalue": "",
     "output_type": "error",
     "traceback": [
      "\u001b[1;31m---------------------------------------------------------------------------\u001b[0m",
      "\u001b[1;31mUnknownValueError\u001b[0m                         Traceback (most recent call last)",
      "\u001b[1;32m<ipython-input-10-d53adadff811>\u001b[0m in \u001b[0;36m<module>\u001b[1;34m\u001b[0m\n\u001b[0;32m     10\u001b[0m     \u001b[0mengine\u001b[0m\u001b[1;33m.\u001b[0m\u001b[0msay\u001b[0m\u001b[1;33m(\u001b[0m\u001b[1;34m\"اپنا \"\u001b[0m\u001b[1;33m+\u001b[0m\u001b[0mlsturdu\u001b[0m\u001b[1;33m[\u001b[0m\u001b[0mi\u001b[0m\u001b[1;33m]\u001b[0m\u001b[1;33m+\u001b[0m\u001b[1;34m\" لکھیں\"\u001b[0m\u001b[1;33m)\u001b[0m\u001b[1;33m\u001b[0m\u001b[1;33m\u001b[0m\u001b[0m\n\u001b[0;32m     11\u001b[0m     \u001b[0mengine\u001b[0m\u001b[1;33m.\u001b[0m\u001b[0mrunAndWait\u001b[0m\u001b[1;33m(\u001b[0m\u001b[1;33m)\u001b[0m\u001b[1;33m\u001b[0m\u001b[1;33m\u001b[0m\u001b[0m\n\u001b[1;32m---> 12\u001b[1;33m     \u001b[0mele\u001b[0m \u001b[1;33m=\u001b[0m\u001b[0mmyfunction\u001b[0m\u001b[1;33m(\u001b[0m\u001b[1;33m)\u001b[0m\u001b[1;33m\u001b[0m\u001b[1;33m\u001b[0m\u001b[0m\n\u001b[0m\u001b[0;32m     13\u001b[0m     \u001b[0mlstturdu\u001b[0m\u001b[1;33m.\u001b[0m\u001b[0mappend\u001b[0m\u001b[1;33m(\u001b[0m\u001b[0mele\u001b[0m\u001b[1;33m)\u001b[0m \u001b[1;31m# adding the element\u001b[0m\u001b[1;33m\u001b[0m\u001b[1;33m\u001b[0m\u001b[0m\n\u001b[0;32m     14\u001b[0m \u001b[1;33m\u001b[0m\u001b[0m\n",
      "\u001b[1;32m<ipython-input-8-aa5e10ca693a>\u001b[0m in \u001b[0;36mmyfunction\u001b[1;34m()\u001b[0m\n\u001b[0;32m      5\u001b[0m         \u001b[0maudio\u001b[0m \u001b[1;33m=\u001b[0m \u001b[0mr\u001b[0m\u001b[1;33m.\u001b[0m\u001b[0mlisten\u001b[0m\u001b[1;33m(\u001b[0m\u001b[0msource2\u001b[0m\u001b[1;33m,\u001b[0m \u001b[0mphrase_time_limit\u001b[0m\u001b[1;33m=\u001b[0m\u001b[1;36m5\u001b[0m\u001b[1;33m)\u001b[0m\u001b[1;33m\u001b[0m\u001b[1;33m\u001b[0m\u001b[0m\n\u001b[0;32m      6\u001b[0m         \u001b[0mprint\u001b[0m\u001b[1;33m(\u001b[0m\u001b[1;34m\"Time over, Thanks\"\u001b[0m\u001b[1;33m)\u001b[0m\u001b[1;33m\u001b[0m\u001b[1;33m\u001b[0m\u001b[0m\n\u001b[1;32m----> 7\u001b[1;33m         \u001b[0mvalue\u001b[0m\u001b[1;33m=\u001b[0m\u001b[1;33m(\u001b[0m\u001b[0mr\u001b[0m\u001b[1;33m.\u001b[0m\u001b[0mrecognize_google\u001b[0m\u001b[1;33m(\u001b[0m\u001b[0maudio\u001b[0m\u001b[1;33m,\u001b[0m \u001b[0mlanguage\u001b[0m \u001b[1;33m=\u001b[0m \u001b[1;34m'ur'\u001b[0m\u001b[1;33m)\u001b[0m\u001b[1;33m)\u001b[0m\u001b[1;33m;\u001b[0m\u001b[1;33m\u001b[0m\u001b[1;33m\u001b[0m\u001b[0m\n\u001b[0m\u001b[0;32m      8\u001b[0m         \u001b[1;32mreturn\u001b[0m \u001b[0mvalue\u001b[0m\u001b[1;33m\u001b[0m\u001b[1;33m\u001b[0m\u001b[0m\n",
      "\u001b[1;32m~\\anaconda3\\lib\\site-packages\\speech_recognition\\__init__.py\u001b[0m in \u001b[0;36mrecognize_google\u001b[1;34m(self, audio_data, key, language, show_all)\u001b[0m\n\u001b[0;32m    856\u001b[0m         \u001b[1;31m# return results\u001b[0m\u001b[1;33m\u001b[0m\u001b[1;33m\u001b[0m\u001b[1;33m\u001b[0m\u001b[0m\n\u001b[0;32m    857\u001b[0m         \u001b[1;32mif\u001b[0m \u001b[0mshow_all\u001b[0m\u001b[1;33m:\u001b[0m \u001b[1;32mreturn\u001b[0m \u001b[0mactual_result\u001b[0m\u001b[1;33m\u001b[0m\u001b[1;33m\u001b[0m\u001b[0m\n\u001b[1;32m--> 858\u001b[1;33m         \u001b[1;32mif\u001b[0m \u001b[1;32mnot\u001b[0m \u001b[0misinstance\u001b[0m\u001b[1;33m(\u001b[0m\u001b[0mactual_result\u001b[0m\u001b[1;33m,\u001b[0m \u001b[0mdict\u001b[0m\u001b[1;33m)\u001b[0m \u001b[1;32mor\u001b[0m \u001b[0mlen\u001b[0m\u001b[1;33m(\u001b[0m\u001b[0mactual_result\u001b[0m\u001b[1;33m.\u001b[0m\u001b[0mget\u001b[0m\u001b[1;33m(\u001b[0m\u001b[1;34m\"alternative\"\u001b[0m\u001b[1;33m,\u001b[0m \u001b[1;33m[\u001b[0m\u001b[1;33m]\u001b[0m\u001b[1;33m)\u001b[0m\u001b[1;33m)\u001b[0m \u001b[1;33m==\u001b[0m \u001b[1;36m0\u001b[0m\u001b[1;33m:\u001b[0m \u001b[1;32mraise\u001b[0m \u001b[0mUnknownValueError\u001b[0m\u001b[1;33m(\u001b[0m\u001b[1;33m)\u001b[0m\u001b[1;33m\u001b[0m\u001b[1;33m\u001b[0m\u001b[0m\n\u001b[0m\u001b[0;32m    859\u001b[0m \u001b[1;33m\u001b[0m\u001b[0m\n\u001b[0;32m    860\u001b[0m         \u001b[1;32mif\u001b[0m \u001b[1;34m\"confidence\"\u001b[0m \u001b[1;32min\u001b[0m \u001b[0mactual_result\u001b[0m\u001b[1;33m[\u001b[0m\u001b[1;34m\"alternative\"\u001b[0m\u001b[1;33m]\u001b[0m\u001b[1;33m:\u001b[0m\u001b[1;33m\u001b[0m\u001b[1;33m\u001b[0m\u001b[0m\n",
      "\u001b[1;31mUnknownValueError\u001b[0m: "
     ]
    }
   ],
   "source": [
    "#If you want to input through speech  \n",
    "lstturdu = []\n",
    "lsturdu = [\"نام\", \"شہر\", \"ای میل\" , \"رابطہ نمبر\" , \"مقصد\" , \"سابقہ کام کی پوزیشن\" , \"کام کا دورانیہ\" , \"کام کی وضاحت\" , \"سابقہ کام 2 پوزیشن\" , \"کام کا دورانیہ \",\" کام کی وضاحت \",\" ایکٹیویٹس \",\" آپ کی قابلیت \",\" انسٹی ٹیوٹ \",\" تعلیم کا دورانیہ \",\" ہنر 1 \",\" ہنر 2 \",\" ہنر 3 \"]\n",
    "import pyttsx3\n",
    "engine = pyttsx3.init()\n",
    "    \n",
    "# iterating till the range\n",
    "for i in range(0, 18):\n",
    "    print(\"اپنا \"+lsturdu[i]+\" لکھیں\")\n",
    "    engine.say(\"اپنا \"+lsturdu[i]+\" لکھیں\")\n",
    "    engine.runAndWait()\n",
    "    ele =myfunction()\n",
    "    lstturdu.append(ele) # adding the element\n",
    "      \n",
    "print(lstturdu)"
   ]
  },
  {
   "cell_type": "code",
   "execution_count": 13,
   "metadata": {},
   "outputs": [
    {
     "name": "stdout",
     "output_type": "stream",
     "text": [
      "اپنا نام لکھیں\n",
      "حذیفہ\n",
      "اپنا شہر لکھیں\n",
      "راولپنڈی\n",
      "اپنا ای میل لکھیں\n",
      "huzi4722@gmail.com\n",
      "اپنا رابطہ نمبر لکھیں\n",
      "03101577327\n",
      "اپنا مقصد لکھیں\n",
      "میں ن ڈویلپر بننا چاہتا ہوں\n",
      "اپنا سابقہ کام کی پوزیشن لکھیں\n",
      "ملازمت کرنا\n",
      "اپنا کام کا دورانیہ لکھیں\n",
      "2016\n",
      "اپنا کام کی وضاحت لکھیں\n",
      "2016\n",
      "اپنا سابقہ کام 2 پوزیشن لکھیں\n",
      "جونیئر ڈویلپر\n",
      "اپنا کام کا دورانیہ  لکھیں\n",
      "2017\n",
      "اپنا  کام کی وضاحت  لکھیں\n",
      "جونیئر ڈویلپر\n",
      "اپنا  ایکٹیویٹس  لکھیں\n",
      "فٹ بال ، کرکٹ\n",
      "اپنا  آپ کی قابلیت  لکھیں\n",
      "گریجویشن\n",
      "اپنا  انسٹی ٹیوٹ  لکھیں\n",
      "گریجویشن\n",
      "اپنا  تعلیم کا دورانیہ  لکھیں\n",
      "2021 to 2017\n",
      "['حذیفہ', 'راولپنڈی', 'huzi4722@gmail.com', '03101577327', 'میں ن ڈویلپر بننا چاہتا ہوں', 'ملازمت کرنا', '2016', '2016', 'جونیئر ڈویلپر', '2017', 'جونیئر ڈویلپر', 'فٹ بال ، کرکٹ', 'گریجویشن', 'گریجویشن', '2021 to 2017']\n"
     ]
    }
   ],
   "source": [
    "#if you want to input throught text \n",
    "lstturdu = []\n",
    "lsturdu = [\"نام\", \"شہر\", \"ای میل\" , \"رابطہ نمبر\" , \"مقصد\" , \"سابقہ کام کی پوزیشن\" , \"کام کا دورانیہ\" , \"کام کی وضاحت\" , \"سابقہ کام 2 پوزیشن\" , \"کام کا دورانیہ \",\" کام کی وضاحت \",\" ایکٹیویٹس \",\" آپ کی قابلیت \",\" انسٹی ٹیوٹ \",\" تعلیم کا دورانیہ \",\" ہنر 1 \",\" ہنر 2 \",\" ہنر 3 \"]\n",
    "import pyttsx3\n",
    "engine = pyttsx3.init()\n",
    "from textblob import TextBlob\n",
    "for i in range(0, 15):\n",
    "    print(\"اپنا \"+lsturdu[i]+\" لکھیں\")\n",
    "    engine.say(\"اپنا \"+lsturdu[i]+\" لکھیں\")\n",
    "    engine.runAndWait()\n",
    "    ele =input()\n",
    "    lstturdu.append(ele) # adding the element\n",
    "    \n",
    "print(lstturdu)"
   ]
  },
  {
   "cell_type": "code",
   "execution_count": null,
   "metadata": {},
   "outputs": [],
   "source": [
    "\n",
    "حذیفہ\n",
    "اپنا شہر لکھیں\n",
    "راولپنڈی\n",
    "اپنا ای میل لکھیں\n",
    "huzi4722@gmail.com\n",
    "اپنا رابطہ نمبر لکھیں\n",
    "03101577327\n",
    "اپنا مقصد لکھیں\n",
    "میں ن ڈویلپر بننا چاہتا ہوں\n",
    "اپنا سابقہ کام کی پوزیشن لکھیں\n",
    "ملازمت کرنا\n",
    "اپنا کام کا دورانیہ لکھیں\n",
    "2016\n",
    "اپنا کام کی وضاحت لکھیں\n",
    "میں جونیئر ڈویلپر تھا\n",
    "اپنا سابقہ کام 2 پوزیشن لکھیں\n",
    "جونیئر ڈویلپر\n",
    "اپنا کام کا دورانیہ  لکھیں\n",
    "2017\n",
    "اپنا  کام کی وضاحت  لکھیں\n",
    "جونیئر ڈویلپر\n",
    "اپنا  ایکٹیویٹس  لکھیں\n",
    "فٹ بال ، کرکٹ\n",
    "اپنا  آپ کی قابلیت  لکھیں\n",
    "گریجویشن\n",
    "اپنا  انسٹی ٹیوٹ  لکھیں\n",
    "ابیسن یونیورسٹی\n",
    "اپنا  تعلیم کا دورانیہ  لکھیں\n",
    "2107 to 2021\n",
    "اپنا  ہنر 1  لکھیں\n",
    "Pyپروگرامthon  نگ\n",
    "اپنا  ہنر 2  لکھیں\n",
    "C++\n",
    "اپنا  ہنر 3  لکھیں\n",
    "C#\n",
    "['نام', 'شہر', 'ای میل', 'رابطہ نمبر', 'مقصد', 'سابقہ کام کی پوزیشن', 'کام کا دورانیہ', 'کام کی وضاحت', 'سابقہ کام 2 پوزیشن', 'کام کا دورانیہ ', ' کام کی وضاحت ', ' ایکٹیویٹس ', ' آپ کی قابلیت ', ' انسٹی ٹیوٹ ', ' تعلیم کا دورانیہ ', ' ہنر 1 ', ' ہنر 2 ', ' ہنر 3 ', 'حذیفہ', 'راولپنڈی', 'huzi4722@gmail.com', '03101577327', 'میں ن ڈویلپر بننا چاہتا ہوں', 'ملازمت کرنا', '2016', 'میں جونیئر ڈویلپر تھا', 'جونیئر ڈویلپر', '2017', 'جونیئر ڈویلپر', 'فٹ بال ، کرکٹ', 'گریجویشن', 'ابیسن یونیورسٹی', '2107 to 2021', 'Python  پروگرامنگ', 'C++', 'C#']"
   ]
  },
  {
   "cell_type": "code",
   "execution_count": 15,
   "metadata": {},
   "outputs": [],
   "source": [
    "from googletrans import Translator\n",
    "lsturdu = [\"نام\", \"شہر\", \"ای میل\" , \"رابطہ نمبر\" , \"مقصد\" , \"سابقہ کام کی پوزیشن\" , \"کام کا دورانیہ\" , \"کام کی وضاحت\" , \"سابقہ کام 2 پوزیشن\" , \"کام کا دورانیہ \",\" کام کی وضاحت \",\" ایکٹیویٹس \",\" آپ کی قابلیت \",\" انسٹی ٹیوٹ \",\" تعلیم کا دورانیہ \",\" ہنر 1 \",\" ہنر 2 \",\" ہنر 3 \"]\n",
    "for i in range(0, 15):\n",
    "    translator = Translator()  # initalize the Translator object\n",
    "#input_text=\"3532525\"\n",
    "    result=translator.translate(lstturdu[i],dest='en')\n",
    "    lstturdu[i]=result.text;"
   ]
  },
  {
   "cell_type": "code",
   "execution_count": null,
   "metadata": {},
   "outputs": [],
   "source": [
    "print(lstturdu)"
   ]
  },
  {
   "cell_type": "code",
   "execution_count": 16,
   "metadata": {},
   "outputs": [
    {
     "ename": "IndexError",
     "evalue": "list index out of range",
     "output_type": "error",
     "traceback": [
      "\u001b[1;31m---------------------------------------------------------------------------\u001b[0m",
      "\u001b[1;31mIndexError\u001b[0m                                Traceback (most recent call last)",
      "\u001b[1;32m<ipython-input-16-ce0c4f10f621>\u001b[0m in \u001b[0;36m<module>\u001b[1;34m\u001b[0m\n\u001b[0;32m     47\u001b[0m \u001b[0mplt\u001b[0m\u001b[1;33m.\u001b[0m\u001b[0mannotate\u001b[0m\u001b[1;33m(\u001b[0m\u001b[0mlstturdu\u001b[0m\u001b[1;33m[\u001b[0m\u001b[1;36m14\u001b[0m\u001b[1;33m]\u001b[0m\u001b[1;33m,\u001b[0m \u001b[1;33m(\u001b[0m\u001b[1;36m.02\u001b[0m\u001b[1;33m,\u001b[0m\u001b[1;36m.29\u001b[0m\u001b[1;33m)\u001b[0m\u001b[1;33m,\u001b[0m \u001b[0mweight\u001b[0m\u001b[1;33m=\u001b[0m\u001b[1;34m'regular'\u001b[0m\u001b[1;33m,\u001b[0m \u001b[0mfontsize\u001b[0m\u001b[1;33m=\u001b[0m\u001b[1;36m12\u001b[0m\u001b[1;33m)\u001b[0m\u001b[1;33m\u001b[0m\u001b[1;33m\u001b[0m\u001b[0m\n\u001b[0;32m     48\u001b[0m \u001b[0mplt\u001b[0m\u001b[1;33m.\u001b[0m\u001b[0mannotate\u001b[0m\u001b[1;33m(\u001b[0m\u001b[0mSkillsHeader\u001b[0m\u001b[1;33m,\u001b[0m \u001b[1;33m(\u001b[0m\u001b[1;36m.02\u001b[0m\u001b[1;33m,\u001b[0m\u001b[1;36m.24\u001b[0m\u001b[1;33m)\u001b[0m\u001b[1;33m,\u001b[0m \u001b[0mweight\u001b[0m\u001b[1;33m=\u001b[0m\u001b[1;34m'bold'\u001b[0m\u001b[1;33m,\u001b[0m \u001b[0mfontsize\u001b[0m\u001b[1;33m=\u001b[0m\u001b[1;36m15\u001b[0m\u001b[1;33m,\u001b[0m\u001b[0mcolor\u001b[0m\u001b[1;33m=\u001b[0m\u001b[1;34m'#58C1B2'\u001b[0m\u001b[1;33m)\u001b[0m\u001b[1;33m\u001b[0m\u001b[1;33m\u001b[0m\u001b[0m\n\u001b[1;32m---> 49\u001b[1;33m \u001b[0mplt\u001b[0m\u001b[1;33m.\u001b[0m\u001b[0mannotate\u001b[0m\u001b[1;33m(\u001b[0m\u001b[0mlstturdu\u001b[0m\u001b[1;33m[\u001b[0m\u001b[1;36m15\u001b[0m\u001b[1;33m]\u001b[0m\u001b[1;33m,\u001b[0m \u001b[1;33m(\u001b[0m\u001b[1;36m.02\u001b[0m\u001b[1;33m,\u001b[0m\u001b[1;36m.20\u001b[0m\u001b[1;33m)\u001b[0m\u001b[1;33m,\u001b[0m \u001b[0mweight\u001b[0m\u001b[1;33m=\u001b[0m\u001b[1;34m'regular'\u001b[0m\u001b[1;33m,\u001b[0m \u001b[0mfontsize\u001b[0m\u001b[1;33m=\u001b[0m\u001b[1;36m12\u001b[0m\u001b[1;33m)\u001b[0m\u001b[1;33m\u001b[0m\u001b[1;33m\u001b[0m\u001b[0m\n\u001b[0m\u001b[0;32m     50\u001b[0m \u001b[0mplt\u001b[0m\u001b[1;33m.\u001b[0m\u001b[0mannotate\u001b[0m\u001b[1;33m(\u001b[0m\u001b[0mlstturdu\u001b[0m\u001b[1;33m[\u001b[0m\u001b[1;36m16\u001b[0m\u001b[1;33m]\u001b[0m\u001b[1;33m,\u001b[0m \u001b[1;33m(\u001b[0m\u001b[1;36m.02\u001b[0m\u001b[1;33m,\u001b[0m\u001b[1;36m.17\u001b[0m\u001b[1;33m)\u001b[0m\u001b[1;33m,\u001b[0m \u001b[0mweight\u001b[0m\u001b[1;33m=\u001b[0m\u001b[1;34m'regular'\u001b[0m\u001b[1;33m,\u001b[0m \u001b[0mfontsize\u001b[0m\u001b[1;33m=\u001b[0m\u001b[1;36m12\u001b[0m\u001b[1;33m)\u001b[0m\u001b[1;33m\u001b[0m\u001b[1;33m\u001b[0m\u001b[0m\n\u001b[0;32m     51\u001b[0m \u001b[0mplt\u001b[0m\u001b[1;33m.\u001b[0m\u001b[0mannotate\u001b[0m\u001b[1;33m(\u001b[0m\u001b[0mlstturdu\u001b[0m\u001b[1;33m[\u001b[0m\u001b[1;36m17\u001b[0m\u001b[1;33m]\u001b[0m\u001b[1;33m,\u001b[0m \u001b[1;33m(\u001b[0m\u001b[1;36m.02\u001b[0m\u001b[1;33m,\u001b[0m\u001b[1;36m.14\u001b[0m\u001b[1;33m)\u001b[0m\u001b[1;33m,\u001b[0m \u001b[0mweight\u001b[0m\u001b[1;33m=\u001b[0m\u001b[1;34m'regular'\u001b[0m\u001b[1;33m,\u001b[0m \u001b[0mfontsize\u001b[0m\u001b[1;33m=\u001b[0m\u001b[1;36m12\u001b[0m\u001b[1;33m)\u001b[0m\u001b[1;33m\u001b[0m\u001b[1;33m\u001b[0m\u001b[0m\n",
      "\u001b[1;31mIndexError\u001b[0m: list index out of range"
     ]
    },
    {
     "data": {
      "image/png": "[encoded data removed]",
      "text/plain": [
       "<Figure size 612x792 with 1 Axes>"
      ]
     },
     "metadata": {
      "needs_background": "light"
     },
     "output_type": "display_data"
    }
   ],
   "source": [
    "# HeADING variables in template \n",
    "WorkHeader = ' Work EXPERIENCE'\n",
    "EduHeader = 'EDUCATION'\n",
    "Activites=\"Activites\"\n",
    "SkillsHeader = 'Skills'\n",
    "\n",
    "# Setting style for bar graphs\n",
    "import matplotlib.pyplot as plt\n",
    "%matplotlib inline\n",
    "\n",
    "# set font\n",
    "plt.rcParams['font.family'] = 'sans-serif'\n",
    "plt.rcParams['font.sans-serif'] = 'STIXGeneral'\n",
    "\n",
    "fig, ax = plt.subplots(figsize=(8.5, 11))\n",
    "\n",
    "# Decorative Lines\n",
    "ax.axvline(x=.5, ymin=0, ymax=1, color='#007ACC', alpha=0.0, linewidth=50)\n",
    "plt.axvline(x=.99, color='#ffffff', alpha=0.5, linewidth=300)\n",
    "plt.axhline(y=.73, xmin=0, xmax=1, color='#000000', linewidth=1)\n",
    "plt.axhline(y=.48, xmin=0, xmax=1, color='#000000', linewidth=1)\n",
    "plt.axhline(y=.37, xmin=0, xmax=1, color='#000000', linewidth=1)\n",
    "plt.axhline(y=.23, xmin=0, xmax=1, color='#000000', linewidth=1)\n",
    "# set background color\n",
    "ax.set_facecolor('white')\n",
    "# remove axes\n",
    "plt.axis('off')\n",
    "\n",
    "# add text\n",
    "plt.annotate(lstturdu[0], (.02,.94), weight='bold', fontsize=20)\n",
    "plt.annotate(lstturdu[1], (.02,.91), weight='regular', fontsize=14)\n",
    "plt.annotate(lstturdu[2], (.02,.89), weight='bold', fontsize=12)\n",
    "plt.annotate(lstturdu[3], (.02,.86), weight='bold', fontsize=12)\n",
    "plt.annotate(lstturdu[4], (.02,.82), weight='regular', fontsize=14)\n",
    "plt.annotate(WorkHeader, (.02,.75), weight='bold', fontsize=15, color='#58C1B2')\n",
    "plt.annotate(lstturdu[5], (.02,.71), weight='bold', fontsize=12)\n",
    "plt.annotate(lstturdu[6], (.02,.68), weight='regular', fontsize=12)\n",
    "plt.annotate(lstturdu[7], (.02,.65), weight='regular', fontsize=12)\n",
    "plt.annotate(lstturdu[8], (.02,.62), weight='bold', fontsize=12)\n",
    "plt.annotate(lstturdu[9], (.02,.59), weight='regular', fontsize=12)\n",
    "plt.annotate(lstturdu[10], (.02,.55), weight='regular', fontsize=12)\n",
    "plt.annotate(Activites, (.02,.49), weight='bold', fontsize=15, color='#58C1B2')\n",
    "plt.annotate(lstturdu[11], (.02,.46), weight='regular', fontsize=12)\n",
    "plt.annotate(EduHeader, (.02,.38), weight='bold', fontsize=15, color='#58C1B2')\n",
    "plt.annotate(lstturdu[12], (.02,.34), weight='regular', fontsize=12)\n",
    "plt.annotate(lstturdu[13], (.02,.31), weight='regular', fontsize=12)\n",
    "plt.annotate(lstturdu[14], (.02,.29), weight='regular', fontsize=12)\n",
    "plt.annotate(SkillsHeader, (.02,.24), weight='bold', fontsize=15,color='#58C1B2')\n",
    "plt.annotate(lstturdu[15], (.02,.20), weight='regular', fontsize=12)\n",
    "plt.annotate(lstturdu[16], (.02,.17), weight='regular', fontsize=12)\n",
    "plt.annotate(lstturdu[17], (.02,.14), weight='regular', fontsize=12)\n",
    "\n",
    "#add qr code\n",
    "from matplotlib.offsetbox import TextArea, DrawingArea, OffsetImage, AnnotationBbox\n",
    "import matplotlib.image as mpimg\n",
    "\n",
    "plt.savefig('resumeexample2.pdf', dpi=300, bbox_inches='tight')"
   ]
  },
  {
   "cell_type": "code",
   "execution_count": null,
   "metadata": {},
   "outputs": [],
   "source": []
  },
  {
   "cell_type": "code",
   "execution_count": null,
   "metadata": {},
   "outputs": [],
   "source": [
    "import socket \n",
    "from _thread import * \n",
    "import threading  \n",
    "import json \n",
    "from io import StringIO \n",
    "def threaded(c): \n",
    "    data = c.recv(1024) \n",
    "    data = json.loads( data.decode(\"utf-8\")  ) \n",
    "    print(data) \n",
    "    # set font\n",
    "    plt.rcParams['font.family'] = 'sans-serif'\n",
    "    plt.rcParams['font.sans-serif'] = 'STIXGeneral'\n",
    "\n",
    "    fig, ax = plt.subplots(figsize=(8.5, 11))\n",
    "\n",
    "    # Decorative Lines\n",
    "    ax.axvline(x=.5, ymin=0, ymax=1, color='#007ACC', alpha=0.0, linewidth=50)\n",
    "    plt.axvline(x=.99, color='#ffffff', alpha=0.5, linewidth=300)\n",
    "    plt.axhline(y=.73, xmin=0, xmax=1, color='#000000', linewidth=1)\n",
    "    plt.axhline(y=.48, xmin=0, xmax=1, color='#000000', linewidth=1)\n",
    "    plt.axhline(y=.37, xmin=0, xmax=1, color='#000000', linewidth=1)\n",
    "    plt.axhline(y=.23, xmin=0, xmax=1, color='#000000', linewidth=1)\n",
    "    # set background color\n",
    "    ax.set_facecolor('white')\n",
    "    # remove axes\n",
    "    plt.axis('off')\n",
    "\n",
    "    # add text\n",
    "    plt.annotate(data[\"name\"], (.02,.94), weight='bold', fontsize=20)\n",
    "    plt.annotate(data[\"City\"], (.02,.91), weight='regular', fontsize=14)\n",
    "    plt.annotate(data[\"Email\"], (.02,.89), weight='bold', fontsize=12)\n",
    "    plt.annotate(data[\"contactNumber\"], (.02,.86), weight='bold', fontsize=12)\n",
    "    plt.annotate(data[\"Objective\"], (.02,.82), weight='regular', fontsize=14)\n",
    "    plt.annotate(WorkHeader, (.02,.75), weight='bold', fontsize=15, color='#58C1B2')\n",
    "    plt.annotate(data[\"PreviousWorkPosition\"], (.02,.71), weight='bold', fontsize=12)\n",
    "    plt.annotate(data[\"workDuration\"], (.02,.68), weight='regular', fontsize=12)\n",
    "    plt.annotate(data[\"WorkDescrption\"], (.02,.65), weight='regular', fontsize=12)\n",
    "    plt.annotate(data[\"Previouswork2position\"], (.02,.62), weight='bold', fontsize=12)\n",
    "    plt.annotate(data[\"workDuration2\"], (.02,.59), weight='regular', fontsize=12)\n",
    "    plt.annotate(data[\"WorkDescrption2\"], (.02,.55), weight='regular', fontsize=12)\n",
    "    plt.annotate(Activites, (.02,.49), weight='bold', fontsize=15, color='#58C1B2')\n",
    "    plt.annotate(data[\"Activites\"], (.02,.46), weight='regular', fontsize=12)\n",
    "    plt.annotate(EduHeader, (.02,.38), weight='bold', fontsize=15, color='#58C1B2')\n",
    "    plt.annotate(data[\"YourQualification\"], (.02,.34), weight='regular', fontsize=12)\n",
    "    plt.annotate(data[\"Institute\"], (.02,.31), weight='regular', fontsize=12)\n",
    "    plt.annotate(data[\"EducationDuration\"], (.02,.29), weight='regular', fontsize=12)\n",
    "    plt.annotate(SkillsHeader, (.02,.24), weight='bold', fontsize=15,color='#58C1B2')\n",
    "    plt.annotate(data[\"Skills1\"], (.02,.20), weight='regular', fontsize=12)\n",
    "    plt.annotate(data[\"Skills2\"], (.02,.17), weight='regular', fontsize=12)\n",
    "    plt.annotate(data[\"City\"], (.02,.14), weight='regular', fontsize=12)\n",
    "\n",
    "    #add qr code\n",
    "    from matplotlib.offsetbox import TextArea, DrawingArea, OffsetImage, AnnotationBbox\n",
    "    import matplotlib.image as mpimg\n",
    "\n",
    "    plt.savefig('resumeexample2.pdf', dpi=300, bbox_inches='tight')\n",
    "    c.send(  json.dumps({\"label\": \"Yes\" }).encode('utf-8')   ) \n",
    "    c.close() \n",
    "port = 5000 \n",
    "s = socket.socket(socket.AF_INET, socket.SOCK_STREAM)  \n",
    "s.bind((  \"0.0.0.0\" , port  ))  \n",
    "print(\"socket binded to port\", port ) \n",
    "s.listen(5)  \n",
    "print(\"socket is listening\") \n",
    "all_conn = [] \n",
    "while True: \n",
    "    conn, addr = s.accept() \n",
    "    print('Connected to :', addr[0], ':', addr[1]) \n",
    "    all_conn.append( conn ) \n",
    "    start_new_thread(threaded, (conn,))"
   ]
  },
  {
   "cell_type": "code",
   "execution_count": null,
   "metadata": {},
   "outputs": [],
   "source": []
  }
 ],
 "metadata": {
  "kernelspec": {
   "display_name": "Python 3",
   "language": "python",
   "name": "python3"
  },
  "language_info": {
   "codemirror_mode": {
    "name": "ipython",
    "version": 3
   },
   "file_extension": ".py",
   "mimetype": "text/x-python",
   "name": "python",
   "nbconvert_exporter": "python",
   "pygments_lexer": "ipython3",
   "version": "3.8.5"
  }
 },
 "nbformat": 4,
 "nbformat_minor": 4
}
